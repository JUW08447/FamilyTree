{
 "cells": [
  {
   "cell_type": "code",
   "execution_count": 68,
   "id": "442a26ce",
   "metadata": {},
   "outputs": [],
   "source": [
    "# Importing tkinter\n",
    "from tkinter import *\n",
    "\n",
    "# Importing ttk from tkinter\n",
    "from tkinter import ttk\n",
    "\n",
    "# Creating app window\n",
    "app = Tk()\n",
    "\n",
    "# Defining title of the app\n",
    "app.title(\"GUI\")\n",
    "\n",
    "# Defining label of the app and calling a geometry\n",
    "ttk.Label(app, text =\"Treeview(hierarchical)\",font = ('Times New Roman', 30)).pack()\n",
    "\n",
    "# Creating treeview window\n",
    "treeview = ttk.Treeview(app)\n",
    "\n",
    "# Calling pack method on the treeview\n",
    "treeview.pack(fill = BOTH , expand = 1)\n",
    "\n",
    "# Inserting items to the treeview\n",
    "# Inserting parent\n",
    "treeview.insert('', '0', 'item1',text ='FAMILY TREE')\n",
    "\n",
    "# Inserting child\n",
    "treeview.insert('', '1', 'item2',text =' Paternal grandparents ')\n",
    "treeview.insert('', '2', 'item3',text ='Maternal grandparents')\n",
    "\n",
    "\n",
    "# Inserting more than one attribute of an item\n",
    "\n",
    "treeview.insert('item2', 'end', 'Grand Father1------Grand Mother1',text ='Grand Father1------------------------ Grand Mother1')\n",
    "treeview.insert('item2', 'end', 'Uncle1 ---------- Aunt1',text ='Uncle1 ---------------------------------- Aunt1')\n",
    "treeview.insert('item2', 'end', 'Male Cousins ---------- Female Cousins',text ='Male Cousins -------- Female Cousins')\n",
    "treeview.insert('item2', 'end', 'Father ---------- Mother',text ='Father --------------------------------------Mother')\n",
    "treeview.insert('item2', 'end', 'Me ---------- Sisters',text ='Me -------- Sisters')\n",
    "\n",
    "treeview.insert('item3', 'end', 'Grand Father2------Grand Mother2  ',text ='Grand Father2----------------Grand Mother2')\n",
    "treeview.insert('item3', 'end', 'Aunt2 ---------- Uncle2',text ='Aunt2 ---------------------------- Uncle2')\n",
    "treeview.insert('item3', 'end', 'Male_Cousins ---------- Female_Cousins',text ='Male_Cousins ------ Female_Cousins')\n",
    "treeview.insert('item3', 'end', 'Mother ----------- Father',text ='Mother----------------------------Father')\n",
    "treeview.insert('item3', 'end', 'me ---------- sisters',text ='me -------- sisters')\n",
    "\n",
    "# Placing each child items in parent widget\n",
    "treeview.move('item2', 'item1', 'end')\n",
    "treeview.move('item3', 'item1', 'end')\n",
    "\n",
    "# Calling main()\n",
    "app.mainloop()"
   ]
  },
  {
   "cell_type": "code",
   "execution_count": null,
   "id": "0c0a0a69",
   "metadata": {},
   "outputs": [],
   "source": []
  }
 ],
 "metadata": {
  "kernelspec": {
   "display_name": "Python 3",
   "language": "python",
   "name": "python3"
  },
  "language_info": {
   "codemirror_mode": {
    "name": "ipython",
    "version": 3
   },
   "file_extension": ".py",
   "mimetype": "text/x-python",
   "name": "python",
   "nbconvert_exporter": "python",
   "pygments_lexer": "ipython3",
   "version": "3.8.8"
  }
 },
 "nbformat": 4,
 "nbformat_minor": 5
}
